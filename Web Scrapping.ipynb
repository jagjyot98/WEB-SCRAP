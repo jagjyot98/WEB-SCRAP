{
 "cells": [
  {
   "cell_type": "code",
   "execution_count": 2,
   "metadata": {},
   "outputs": [],
   "source": [
    "import pandas as pd  # for data manipulation\n",
    "import requests  # for connection buildup btw proogram & webpage\n",
    "from bs4 import BeautifulSoup # for accessing the code behind the webpage"
   ]
  },
  {
   "cell_type": "code",
   "execution_count": 6,
   "metadata": {},
   "outputs": [
    {
     "name": "stdout",
     "output_type": "stream",
     "text": [
      "          Period    Description temperatures\n",
      "0        Tonight  Mostly Cloudy   Low: 59 °F\n",
      "1       Thursday  BecomingSunny  High: 76 °F\n",
      "2  ThursdayNight  Partly Cloudy   Low: 60 °F\n",
      "3         Friday   Mostly Sunny  High: 80 °F\n",
      "4    FridayNight   Mostly Clear   Low: 60 °F\n",
      "5       Saturday   Mostly Sunny  High: 82 °F\n",
      "6  SaturdayNight  Mostly Cloudy   Low: 61 °F\n",
      "7         Sunday   Partly Sunny  High: 79 °F\n",
      "8    SundayNight  Mostly Cloudy   Low: 60 °F\n"
     ]
    }
   ],
   "source": [
    "page=requests.get('https://forecast.weather.gov/MapClick.php?lat=34.05349000000007&lon=-118.24531999999999#.XoelzYgzZPY')\n",
    "soup=BeautifulSoup(page.content,'html.parser') # stores code behind the web page in object 'soup'\n",
    "\n",
    "#print(soup)     prints wholesource code of the webpage\n",
    "#print(soup.find_all('a'))       prints all the a tags the source code\n",
    "week=soup.find(id ='seven-day-forecast-body')\n",
    "#print(week.get_text())\n",
    "#print(week.find_all('li'))  # finds all the lists tag items\n",
    "\n",
    "#list comprehension(contain all of tombstone container) [List of all the weather forcasts given under tombstone container tag]\n",
    "items=week.find_all(class_='tombstone-container')\n",
    "#print(items[0].get_text())  # prints a particular forecast from the items list\n",
    "\n",
    "#creating lists for various Attributes\n",
    "period_names = [item.find(class_='period-name').get_text() for item in items]\n",
    "short_descriptions = [item.find(class_='short-desc').get_text() for item in items]\n",
    "temperatures = [item.find(class_='temp').get_text() for item in items]\n",
    "\n",
    "#print(period_names)\n",
    "#print(short_descriptions)\n",
    "#print(temperatures)\n",
    "\n",
    "#dictionary , collection for the whole forecast database\n",
    "weather_stf=pd.DataFrame(\n",
    "    {\n",
    "    'Period':period_names,\n",
    "    'Description':short_descriptions,\n",
    "    'temperatures':temperatures,\n",
    "    })\n",
    "\n",
    "print(weather_stf)\n",
    "#weather_stf.to_csv('Weather.csv')   # to create csv file for the above dictionary [Further manipulate in Excel]"
   ]
  },
  {
   "cell_type": "code",
   "execution_count": null,
   "metadata": {},
   "outputs": [],
   "source": []
  },
  {
   "cell_type": "code",
   "execution_count": null,
   "metadata": {},
   "outputs": [],
   "source": []
  }
 ],
 "metadata": {
  "kernelspec": {
   "display_name": "Python 3",
   "language": "python",
   "name": "python3"
  },
  "language_info": {
   "codemirror_mode": {
    "name": "ipython",
    "version": 3
   },
   "file_extension": ".py",
   "mimetype": "text/x-python",
   "name": "python",
   "nbconvert_exporter": "python",
   "pygments_lexer": "ipython3",
   "version": "3.7.1"
  }
 },
 "nbformat": 4,
 "nbformat_minor": 2
}
